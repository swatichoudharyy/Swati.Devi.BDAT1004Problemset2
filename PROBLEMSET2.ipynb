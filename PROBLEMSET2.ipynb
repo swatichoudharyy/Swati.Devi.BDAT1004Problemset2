#QUESTION-1 
n = 0
def b():
    global n
    a = c1(n)
    
def c1(a):
    return n + 2

b()
b()
b()
n
"""EXPLANATION
Each time 2 is added
b() then a is 0 + 2 = 2
b() then a is 2 + 2 = 4
b() then a is 4 + 2 = 6
a is 6 finally"""


#QUESTION-2

def filelength(filename):
    try:
        file = open(filename)
        contents = file.read()
        file.close()
        print(len(contents))
    except:
        print("File " +filename + " not found.")
filelength('idterm.py')    



#QUESTION-3
class Marsupial:
    def __init__(self):
         self.pouch = []
    def put_in_pouch(self,name):
          self.pouch.append(name)
    def pouch_contents(self):
          print(self.pouch)

m = Marsupial()
m.put_in_pouch('doll')
m.put_in_pouch('firetruck')
m.put_in_pouch('kitten')
m.pouch_contents()

class Kangaroo(Marsupial):
  def __init__(self,x,y):
    super().__init__()
    self.x = x
    self.y = y
  
  def jump(self,dx,dy):
    self.x += dx
    self.y += dy
  
  def __str__(self):
    return f"I am kangaroo located at coordinates ({self.x},{self.y})"

k = Kangaroo(0,0)
print(k)
k.put_in_pouch('doll')
k.put_in_pouch('firetruck')
k.put_in_pouch('kitten')
k.pouch_contents()
k.jump(1,0)
k.jump(1,0)
k.jump(1,0)
print(k)

#QUESTION-4
def collatz(x):
    """
        Following while loop runs until x is not equal to 1
        Once x==1 then the loop is terminated.
    """
    while x!=1:
        """
            At first we print whatever the current value of x is.
        """
        print(x)
 
        """
            Now there are two possibilities for x
            1) x is even
            2) x is odd
        """
        if x%2 is 0:
            """
                x is even if remainder is 0 of division of x by 2.
                Using modulus operator we get to know if x is even or odd.
                
                -> So is x is even we divide it by 2 as x=x/2 
                In python we use double forward slashes to get integer after division
                See below
            """
            x=x//2
        else:
            """
                If x is odd then we update x as x=3*x+1
            """
            x=3*x+1
    """
        Once the while loop is terminated Note that 1 is not yet printed.
        As when x is 1, the loop gets terminated. So we need to print 1 explicitly in the end
        of the function collatz()
    """
    print(1)
 
 
"""
    Now the program prompts the user to enter to enter value of x
"""
x=int(input("Please enter the value of n ::"))
 
"""
    Below we call the function collatz() with x as parameter.
"""
collatz(x)

#QUESTION-5

#Decimal to binary conversion
#using recursion
def getbinary(x):
#Base case
    if x == 0:
        return 0
     #Recursion call and storing the result
    smallans= getbinary(x // 2)
    return x % 2 + 10 * smallans
#Driver Code
decimal_number= 14
print(getbinary(decimal_number))

#QUESTION-6

from html.parser import HTMLParser
 
# Inherit from Html parser
class HeadingParser(HTMLParser):
    # Define the headings
    points = ['h1', 'h2', 'h3', 'h4', 'h5', 'h6']
 
    # Handle the functions
    def handle_starttag(self, tag, attrs):
        if tag in self.points:
            print(tag)
 
    def handle_endtag(self, tag):
        if tag in self.points:
            print(tag)
 
    def handle_data(self, data):
        print(data)
 
# TEST HERE
parser = HeadingParser()
infile = open("C:/Users/choud/Desktop/W3c.html")
content = infile.read()
infile.close()
hp = HeadingParser()
hp.feed(content)

#QUESTION-7
from urllib.request import Request
from bs4 import BeautifulSoup
# lists
urls=[]
# function created
def scrape(site):
#getting the request from url
    r= Request.get(site)
    #converting the text
    p= BeautifulSoup(r.text,"html.parser")
    for d in p.find_all("a"):
              href= d.attrs['href']
    if href.startswith("/"):
            site= site+href
            if site not in  urls:
                urls.append(site) 
                print(site)
                #calling it self
                scrape(site)
# main function
if __name__ =="__main__":
    #website to be scrape
    site="http://example.webscraping.com//"
    #calling function
    scrape(site)
#QUESTION-9
words = ['The', 'quick', 'brown', 'fox', 'jumps', 'over', 'the', 'lazy', 'dog']
# Printing all words upper case
print([x.upper() for x in words])
 
# Printing all words lower case
print([x.lower() for x in words])
 
# Printing length of each word
print([len(x) for x in words])
 
# Printing the list containing a list for every word of list words,
# where each list contains the word in uppercase and lowercase and the length of the word
print([[x.upper(), x.lower(), len(x)] for x in words])
 
# Printing the list of words in list words containing 4 or more characters
print([x for x in words if len(x)>=4])

#QUESTION-8

"""
#CREATE TABLE weather
#(
#city varchar(15),
#country varchar(15),
#season varchar(15),
#temperature float,
rainfall float
);

# Insering Values
INSERT INTO weather VALUES('Mumbai', 'India', 'Winter', 24.8,5.9),
('Mumbai', 'India', 'Spring', 28.4,16.2),
('Mumbai', 'India', 'Summer', 27.9,1549.4),
('Mumbai', 'India', 'Fall', 27.6,346.0),
('London', 'United kingdom', 'Winter', 4.2,207.7),
('London', 'United kingdom', 'Spring', 8.3,169.6),
('London', 'United kingdom','Summer', 15.7,157.0),
('London', 'United kingdom','Fall', 10.4,218.5),
('Cairo', 'Egypt','Winter', 13.6,16.5),
('Cairo', 'Egypt', 'Spring', 20.7,6.5);

#Query1
select * from weather
#Query2
select distinct(city) from weather
#Query3
select * from weather
where country = 'India'
#Query4
select * from weather 
where Season = 'Fall'
#query5
select city,country,season from weather
where rainfall between 200 and 400
#Query6
select city,country,season from weather
where season = 'Fall' and temprature > 20
order by Temprature """





















